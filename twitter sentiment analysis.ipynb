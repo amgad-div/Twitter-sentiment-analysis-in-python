{
  "nbformat": 4,
  "nbformat_minor": 0,
  "metadata": {
    "colab": {
      "name": "Untitled1.ipynb",
      "provenance": [],
      "collapsed_sections": []
    },
    "kernelspec": {
      "name": "python3",
      "display_name": "Python 3"
    },
    "language_info": {
      "name": "python"
    }
  },
  "cells": [
    {
      "cell_type": "markdown",
      "source": [
        "# import library we are use \n",
        "\n",
        "**tweepy** this easy api in python to get data from tweeter <br/>\n",
        "**testblob** this use to NLP  "
      ],
      "metadata": {
        "id": "a7FytYj16yDn"
      }
    },
    {
      "cell_type": "code",
      "source": [
        "import textblob\n",
        "import tweepy"
      ],
      "metadata": {
        "id": "LlU0njHU7Hs8"
      },
      "execution_count": 7,
      "outputs": []
    },
    {
      "cell_type": "markdown",
      "source": [
        "we use [developer.tweeter.com] to get api key and can access the tweet \n"
      ],
      "metadata": {
        "id": "uov9ZuZC7-P3"
      }
    },
    {
      "cell_type": "code",
      "source": [
        " # i cannot show you my api key\n",
        "api_key = \"your api key\"\n",
        "api_key_secert= \"........\"\n",
        "access_token=\".....\"\n",
        "access_token_secret=\".............\"\n"
      ],
      "metadata": {
        "id": "5Z2QvmFq7zfV"
      },
      "execution_count": 8,
      "outputs": []
    },
    {
      "cell_type": "code",
      "source": [
        "auth=tweepy.OAuthHandler(consumer_key=api_key , consumer_secret=api_key_secert)\n",
        "auth.set_access_token(access_token,access_token_secret)\n",
        "api=tweepy.API(auth)"
      ],
      "metadata": {
        "id": "T-iRfRr485Vi"
      },
      "execution_count": 10,
      "outputs": []
    },
    {
      "cell_type": "code",
      "source": [
        "search_term='stocks'\n",
        "tweet=300\n",
        "tweets= tweepy.Cursor(api.search, q=search_term,lang='en').items(tweet)"
      ],
      "metadata": {
        "id": "Mm14l1Uh_AXE"
      },
      "execution_count": 11,
      "outputs": []
    },
    {
      "cell_type": "code",
      "source": [
        "polarity =0\n",
        "for tw in tweets :\n",
        "  clean_text= tw.text.replace('rt','')\n",
        "  if clean_text.startswith('@'):\n",
        "    position=clean_text.index(':')\n",
        "    clean_text=clean_text[position+2:]\n",
        "    analysis= textblob(clean_text)\n",
        "    tweet_polarity=analysis.polarity\n",
        "  polarity+=tweet_polarity\n",
        "print(polarity)"
      ],
      "metadata": {
        "id": "ATByqoDd_5ZJ"
      },
      "execution_count": null,
      "outputs": []
    }
  ]
}